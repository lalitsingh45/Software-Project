{
 "cells": [
  {
   "cell_type": "code",
   "execution_count": 1,
   "id": "b9ecf398",
   "metadata": {},
   "outputs": [
    {
     "name": "stdout",
     "output_type": "stream",
     "text": [
      "Email sent to peyushgedela@proton.me for event: GLOBUS-SOLO\n",
      "Email sent to peyushgedela@proton.me for event: GLOBUS-TEAM\n",
      "Email sent to peyushgedela@proton.me for event: WEBDEX 2024\n",
      "Email sent to rohithkumar1326@gmail.com for event: BLOCKCHAIN ECOSYSTEM-SCHOLARS\n",
      "Email sent to rohithkumar1326@gmail.com for event: BLOCKCHAIN ECOSYSTEM-FACULTY\n"
     ]
    }
   ],
   "source": [
    "import pandas as pd\n",
    "import smtplib\n",
    "from email.mime.text import MIMEText\n",
    "from email.mime.multipart import MIMEMultipart\n",
    "\n",
    "events_df = pd.read_csv('/content/nlp2.csv')\n",
    "\n",
    "emails_df = pd.DataFrame({'EmailID': ['chaharlalit24@gmail.com', 'rohithkumar1326@gmail.com'],'Category': [['film making', 'web development'], 'block chain']})\n",
    "\n",
    "smtp_server = 'smtp-mail.outlook.com'\n",
    "smtp_port = 587\n",
    "smtp_username = 'chaharlalit24@outlook.com'\n",
    "smtp_password = 'packing@12345'\n",
    "\n",
    "def send_email(subject, body, to_email):\n",
    "    from_email = 'chaharlalit24@outlook.com'\n",
    "    \n",
    "    msg = MIMEMultipart()\n",
    "    msg['From'] = from_email\n",
    "    msg['To'] = to_email\n",
    "    msg['Subject'] = subject\n",
    "    msg.attach(MIMEText(body, 'html'))\n",
    "    \n",
    "    with smtplib.SMTP(smtp_server, smtp_port) as server:\n",
    "        server.starttls()\n",
    "        server.login(smtp_username, smtp_password)\n",
    "        server.sendmail(from_email, to_email, msg.as_string())\n",
    "\n",
    "for _, event_row in events_df.iterrows():\n",
    "    event_name = event_row['title']\n",
    "    description = event_row['Description']\n",
    "    event_category = event_row['category']\n",
    "    \n",
    "    relevant_emails = emails_df[emails_df['Category'].apply(lambda x: str(event_category) in x)]['EmailID'].tolist()\n",
    "    for email in relevant_emails:\n",
    "        subject = f\"Invitation to {event_name}\"\n",
    "        body = f\"\"\"\n",
    "        <html>\n",
    "        <head>\n",
    "        </head>\n",
    "\n",
    "        <body style = \"font-family: Arial\">\n",
    "            <h3>Dear student,You are invited to the event: {event_name} {description}</h3>\n",
    "            <p>Visit the following link to register: <a href='https://vitchennaievents.com/conf1/'>VIT CHENNAI EVENTS</a></p>\n",
    "            <p><img src = \"https://chennai.vit.ac.in/wp-content/uploads/2024/01/vit-logo.png\" width = 150px></p>\n",
    "        </body>\n",
    "        </html>\n",
    "        \"\"\"\n",
    "        send_email(subject, body, email)\n",
    "        print(f\"Email sent to {email} for event: {event_name}\")"
   ]
  },
  {
   "cell_type": "code",
   "execution_count": null,
   "id": "adc743e5",
   "metadata": {},
   "outputs": [],
   "source": []
  },
  {
   "cell_type": "code",
   "execution_count": 15,
   "id": "5c240add",
   "metadata": {},
   "outputs": [],
   "source": [
    "emails_df = pd.DataFrame({'EmailID': ['peyushgedela@proton.me', 'rohithkumar1326@gmail.com'],'Category': [['film making', 'web development'], 'block chain']})\n",
    "emails_df.to_excel('my_data1.xlsx', index=False)\n"
   ]
  },
  {
   "cell_type": "code",
   "execution_count": null,
   "id": "7dc0e751",
   "metadata": {},
   "outputs": [],
   "source": []
  }
 ],
 "metadata": {
  "kernelspec": {
   "display_name": "Python 3 (ipykernel)",
   "language": "python",
   "name": "python3"
  },
  "language_info": {
   "codemirror_mode": {
    "name": "ipython",
    "version": 3
   },
   "file_extension": ".py",
   "mimetype": "text/x-python",
   "name": "python",
   "nbconvert_exporter": "python",
   "pygments_lexer": "ipython3",
   "version": "3.11.5"
  }
 },
 "nbformat": 4,
 "nbformat_minor": 5
}
